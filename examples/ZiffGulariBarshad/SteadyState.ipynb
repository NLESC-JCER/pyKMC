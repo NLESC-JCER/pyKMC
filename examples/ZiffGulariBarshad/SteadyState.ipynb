{
 "cells": [
  {
   "cell_type": "markdown",
   "id": "634a9934-24de-474d-a0be-3586895293b0",
   "metadata": {
    "tags": []
   },
   "source": [
    "Ziff-Gulari-Barshad model: Steady State Conditions.\n",
    "---------------------------------------------------\n",
    "The mechanism being studied frequently involves several intermediary species, which\n",
    "concentrations (partial pressure for species in the gas phase and coverage fraction for\n",
    "species that are adsorbed) change in a particular manner as the simulation progresses.\n",
    "However, after a particular simulation time, the concentration of all intermediate\n",
    "species remains constant. At that point, we say the system has reached a steady state\n",
    "configuration. Sadly, we are unable to anticipate the simulation time at which that\n",
    "stage will be reached. Therefore, the more logical approach to take is to: 1) run the\n",
    "simulation for a set period of time (initial guess), 2) determine if the system has\n",
    "reached a steady state, and 3) if so, consider the calculation to have converged and\n",
    "stop; otherwise, increase the simulation time and resume repeating all steps until\n",
    "convergence. With **pyZacros**, and much more directly with **Zacros**, this is laborious to\n",
    "complete manually. Thus, this tutorial aims to demonstrate how to accomplish this goal\n",
    "using the class ``ZacrosSteadyStateJob`` from the **pyZacros** extended components."
   ]
  },
  {
   "cell_type": "markdown",
   "id": "eb34630d-d56e-4f89-a295-c940da703574",
   "metadata": {},
   "source": [
    "The first step is to import all packages we need:"
   ]
  },
  {
   "cell_type": "code",
   "execution_count": 1,
   "id": "e945334f-3d14-4b1d-8c42-033386da8725",
   "metadata": {},
   "outputs": [],
   "source": [
    "import numpy\n",
    "import scm.pyzacros as pz\n",
    "import scm.pyzacros.models"
   ]
  },
  {
   "cell_type": "markdown",
   "id": "77d72747-9ac1-4262-b23c-1eb159fa27fb",
   "metadata": {},
   "source": [
    "Then, we initialize the **pyZacros** environment. "
   ]
  },
  {
   "cell_type": "code",
   "execution_count": 2,
   "id": "3a38d764-8ebd-46b1-b3e3-4fae44078658",
   "metadata": {},
   "outputs": [
    {
     "name": "stdout",
     "output_type": "stream",
     "text": [
      "PLAMS working folder: /home/aguirre/Develop/pyzacros/examples/ZiffGulariBarshad/plams_workdir.010\n"
     ]
    }
   ],
   "source": [
    "scm.pyzacros.init()"
   ]
  },
  {
   "cell_type": "markdown",
   "id": "0d121033-472a-4684-8310-fe5aad561de7",
   "metadata": {},
   "source": [
    "Notice this command created the directory where all **Zacros** input and output files\n",
    "will be stored if they are needed for future reference (``plams_workdir`` by default).\n",
    "Typically, the user doesn't need to use these files."
   ]
  },
  {
   "cell_type": "markdown",
   "id": "f8bfe2e3-a304-40e4-88b2-432790edf347",
   "metadata": {},
   "source": [
    "First, we define the physical system to study. Here we used the Ziff-Gulari-Bashard model.\n",
    "This simple model describes the catalytic processes of carbon monoxide oxidation to carbon\n",
    "dioxide ($\\text{CO}+\\frac{1}{2}\\text{O}_2\\longrightarrow \\text{CO}_2$) and accurately\n",
    "captures the interesting property of the phase transition between two surface poisoned\n",
    "states (either CO- or O-poisoned) and a steady state in between. It is named after Robert\n",
    "M. Ziff, Erdogan Gulari, and Yoav Barshad's pioneering work in 1986."
   ]
  },
  {
   "cell_type": "code",
   "execution_count": 3,
   "id": "debf15c5-536c-45ea-bcec-fa24f378335f",
   "metadata": {},
   "outputs": [],
   "source": [
    "zgb = pz.models.ZiffGulariBarshad()"
   ]
  },
  {
   "cell_type": "markdown",
   "id": "853bf90e-f3da-4d5a-8525-6a8aae339c95",
   "metadata": {},
   "source": [
    "Now set up the Zacros calculation. All parameters are set using a ``Setting`` object.\n",
    "To begin, we define the physical parameters: the molar fractions of the gas species\n",
    "(``CO`` and ``O2``), the temperature (in K), and the pressure (in bar). The calculation\n",
    "parameters are then set: ``species numbers`` (in s) determines how frequently information\n",
    "about the number of gas and surface species will be stored, ``max time`` (in s) specifies\n",
    "the maximum allowed simulated time, and \"random seed\" specifies the random seed to make\n",
    "the calculation precisely reproducible. Keep in mind that ``max time`` defines the\n",
    "calculation's stopping criterion, and it is the parameter we will control below to\n",
    "achieve the steady-state configuration. Finally, we create the ``ZacrosJob``, which\n",
    "uses the parameters we just defined as well as the Ziff-Gulari-Bashard model's lattice,\n",
    "mechanism, and cluster expansion. Notice we do not run this job, we use it as a reference\n",
    "for the steady-state calculation described below."
   ]
  },
  {
   "cell_type": "code",
   "execution_count": 4,
   "id": "7d353384-2ac4-49f7-8ccb-e412fabbcb0f",
   "metadata": {},
   "outputs": [],
   "source": [
    "z_sett = pz.Settings()\n",
    "z_sett.molar_fraction.CO = 0.42\n",
    "z_sett.molar_fraction.O2 = 1.0 - z_sett.molar_fraction.CO\n",
    "z_sett.temperature = 500.0\n",
    "z_sett.pressure = 1.0\n",
    "z_sett.species_numbers = ('time', 0.1)\n",
    "z_sett.max_time = 10.0\n",
    "z_sett.random_seed = 953129\n",
    "\n",
    "job = pz.ZacrosJob( settings=z_sett,\n",
    "                    lattice=zgb.lattice,\n",
    "                    mechanism=zgb.mechanism,\n",
    "                    cluster_expansion=zgb.cluster_expansion )"
   ]
  },
  {
   "cell_type": "markdown",
   "id": "ed58d304-3595-4a12-b087-7f3c9a7dabcb",
   "metadata": {},
   "source": [
    "It is now time to set up the steady state calculation. It also needs a ``Settings`` object to set its parameters, as shown in the first block of code below. To begin, we define the parameters for calculating the turn-over frequency (TOF), which is the property that will be monitored to determine convergence as the steady state is reached. More information can be found in TOF. In a nutshell, for a given simulation time (that will be increased systematically), the simulation is divided into an ``turnover_frequency.nbatch`` ensemble of contiguous batches (20 for this case) where the TOFs are calculated for each one. If the estimated confidence level for these TOFs is higher than the confidence level specified by the ``turnover frequency.confidence`` parameter (96% for this case), convergence is then considered to have been achieved. The ``nreplicas`` parameter allows several simulations to run in parallel to speed up the calculation at the expense of more computational power. For the time being, we will leave it at 1, but we will return to it later.\n",
    "\n",
    "In the second block of code, the ``ZacrosSteadyStateJob.Parameters()`` class allows us to specify the grid in ``max time``, which in this case ranges from 20 to 1000 every 100 seconds. Take note that the convergence is verified for each point on this grid, and if it has not converged, the calculation is resumed up to the next point in ``max time``.\n",
    "\n",
    "Finally, we create ``ZacrosSteadyStateJob``, which references the \"ZacrosJob\" defined above as well as the ``Settings`` object and parameters we just defined:"
   ]
  },
  {
   "cell_type": "code",
   "execution_count": 5,
   "id": "925a20d9-45bb-4d7e-bb60-1e0bb8d31114",
   "metadata": {
    "tags": []
   },
   "outputs": [
    {
     "name": "stdout",
     "output_type": "stream",
     "text": [
      "[17.01|16:58:42] JOB plamsjob Steady State Convergence: Using nbatch=20,confidence=0.96,ignore_nbatch=1,nreplicas=1\n"
     ]
    }
   ],
   "source": [
    "ss_sett = pz.Settings()\n",
    "ss_sett.turnover_frequency.nbatch = 20\n",
    "ss_sett.turnover_frequency.confidence = 0.96\n",
    "ss_sett.nreplicas = 1\n",
    "\n",
    "parameters = pz.ZacrosSteadyStateJob.Parameters()\n",
    "parameters.add( 'max_time', 'restart.max_time', numpy.arange(20.0, 1000.0, 100) )\n",
    "\n",
    "ss_job = pz.ZacrosSteadyStateJob( settings=ss_sett, reference=job, parameters=parameters )"
   ]
  },
  {
   "cell_type": "markdown",
   "id": "edfca2bc-1bae-4135-9dda-598b102138ba",
   "metadata": {},
   "source": [
    "The steady-state setup calculation is ready. Therefore, we can start the calculation by invoking the function ``run()``, which will provide access to the results via the ``results`` variable after it has been completed. The sentence involving the method ``ss_job.ok()``, verifies that the calculation was successfully executed, and waits for the completion of every executed thread in case of parallel execution."
   ]
  },
  {
   "cell_type": "code",
   "execution_count": 6,
   "id": "88a66496-70a7-48e0-bc2f-8361ddf0b76d",
   "metadata": {
    "tags": [
     "cut_output=13_9"
    ]
   },
   "outputs": [
    {
     "name": "stdout",
     "output_type": "stream",
     "text": [
      "[17.01|16:58:42] JOB plamsjob STARTED\n",
      "[17.01|16:58:42] JOB plamsjob RUNNING\n",
      "[17.01|16:58:42] JOB plamsjob/plamsjob_ss_iter000 STARTED\n",
      "[17.01|16:58:42] JOB plamsjob/plamsjob_ss_iter000 RUNNING\n",
      "[17.01|16:58:43] JOB plamsjob/plamsjob_ss_iter000 FINISHED\n",
      "[17.01|16:58:43] JOB plamsjob/plamsjob_ss_iter000 SUCCESSFUL\n",
      "[17.01|16:58:43]       species            TOF          error          ratio     conv?\n",
      "[17.01|16:58:43]            CO       -0.75520        0.12483        0.16529     False\n",
      "[17.01|16:58:43]            O2       -0.39453        0.07267        0.18419     False\n",
      "[17.01|16:58:43]           CO2        0.75640        0.12615        0.16678     False\n",
      "[17.01|16:58:43] JOB plamsjob Steady State Convergence: NO CONVERGENCE REACHED YET\n",
      "[17.01|16:58:43] JOB plamsjob/plamsjob_ss_iter001 STARTED\n",
      "[17.01|16:58:43] JOB plamsjob/plamsjob_ss_iter001 RUNNING\n",
      "[17.01|16:58:46] JOB plamsjob/plamsjob_ss_iter001 FINISHED\n",
      "[17.01|16:58:46] JOB plamsjob/plamsjob_ss_iter001 SUCCESSFUL\n",
      "[17.01|16:58:46]       species            TOF          error          ratio     conv?\n",
      "[17.01|16:58:46]            CO       -0.59303        0.03157        0.05323     False\n",
      "[17.01|16:58:46]            O2       -0.29656        0.01564        0.05274     False\n",
      "[17.01|16:58:46]           CO2        0.59301        0.03157        0.05323     False\n",
      "[17.01|16:58:46] JOB plamsjob Steady State Convergence: NO CONVERGENCE REACHED YET\n",
      "[17.01|16:58:46] JOB plamsjob/plamsjob_ss_iter002 STARTED\n",
      "[17.01|16:58:46] JOB plamsjob/plamsjob_ss_iter002 RUNNING\n",
      "[17.01|16:58:48] JOB plamsjob/plamsjob_ss_iter002 FINISHED\n",
      "[17.01|16:58:49] JOB plamsjob/plamsjob_ss_iter002 SUCCESSFUL\n",
      "[17.01|16:58:49]       species            TOF          error          ratio     conv?\n",
      "[17.01|16:58:49]            CO       -0.59362        0.03311        0.05578     False\n",
      "[17.01|16:58:49]            O2       -0.29659        0.01641        0.05534     False\n",
      "[17.01|16:58:49]           CO2        0.59360        0.03311        0.05579     False\n",
      "[17.01|16:58:49] JOB plamsjob Steady State Convergence: NO CONVERGENCE REACHED YET\n",
      "[17.01|16:58:49] JOB plamsjob/plamsjob_ss_iter003 STARTED\n",
      "[17.01|16:58:49] JOB plamsjob/plamsjob_ss_iter003 RUNNING\n",
      "[17.01|16:58:51] JOB plamsjob/plamsjob_ss_iter003 FINISHED\n",
      "[17.01|16:58:52] JOB plamsjob/plamsjob_ss_iter003 SUCCESSFUL\n",
      "[17.01|16:58:52]       species            TOF          error          ratio     conv?\n",
      "[17.01|16:58:52]            CO       -0.59293        0.03062        0.05164     False\n",
      "[17.01|16:58:52]            O2       -0.29640        0.01531        0.05166     False\n",
      "[17.01|16:58:52]           CO2        0.59293        0.03062        0.05164     False\n",
      "[17.01|16:58:52] JOB plamsjob Steady State Convergence: NO CONVERGENCE REACHED YET\n",
      "[17.01|16:58:52] JOB plamsjob/plamsjob_ss_iter004 STARTED\n",
      "[17.01|16:58:52] JOB plamsjob/plamsjob_ss_iter004 RUNNING\n",
      "[17.01|16:58:54] JOB plamsjob/plamsjob_ss_iter004 FINISHED\n",
      "[17.01|16:58:55] JOB plamsjob/plamsjob_ss_iter004 SUCCESSFUL\n",
      "[17.01|16:58:56]       species            TOF          error          ratio     conv?\n",
      "[17.01|16:58:56]            CO       -0.59345        0.02729        0.04598     False\n",
      "[17.01|16:58:56]            O2       -0.29665        0.01365        0.04601     False\n",
      "[17.01|16:58:56]           CO2        0.59345        0.02729        0.04598     False\n",
      "[17.01|16:58:56] JOB plamsjob Steady State Convergence: NO CONVERGENCE REACHED YET\n",
      "[17.01|16:58:56] JOB plamsjob/plamsjob_ss_iter005 STARTED\n",
      "[17.01|16:58:56] JOB plamsjob/plamsjob_ss_iter005 RUNNING\n",
      "[17.01|16:58:58] JOB plamsjob/plamsjob_ss_iter005 FINISHED\n",
      "[17.01|16:58:58] JOB plamsjob/plamsjob_ss_iter005 SUCCESSFUL\n",
      "[17.01|16:59:00]       species            TOF          error          ratio     conv?\n",
      "[17.01|16:59:00]            CO       -0.61241        0.02564        0.04187     False\n",
      "[17.01|16:59:00]            O2       -0.30638        0.01277        0.04169     False\n",
      "[17.01|16:59:00]           CO2        0.61241        0.02564        0.04187     False\n",
      "[17.01|16:59:00] JOB plamsjob Steady State Convergence: NO CONVERGENCE REACHED YET\n",
      "[17.01|16:59:00] JOB plamsjob/plamsjob_ss_iter006 STARTED\n",
      "[17.01|16:59:00] JOB plamsjob/plamsjob_ss_iter006 RUNNING\n",
      "[17.01|16:59:02] JOB plamsjob/plamsjob_ss_iter006 FINISHED\n",
      "[17.01|16:59:02] JOB plamsjob/plamsjob_ss_iter006 SUCCESSFUL\n",
      "[17.01|16:59:03]       species            TOF          error          ratio     conv?\n",
      "[17.01|16:59:04]            CO       -0.60345        0.02697        0.04469     False\n",
      "[17.01|16:59:04]            O2       -0.30174        0.01346        0.04462     False\n",
      "[17.01|16:59:04]           CO2        0.60345        0.02697        0.04469     False\n",
      "[17.01|16:59:04] JOB plamsjob Steady State Convergence: NO CONVERGENCE REACHED YET\n",
      "[17.01|16:59:04] JOB plamsjob/plamsjob_ss_iter007 STARTED\n",
      "[17.01|16:59:04] JOB plamsjob/plamsjob_ss_iter007 RUNNING\n",
      "[17.01|16:59:05] JOB plamsjob/plamsjob_ss_iter007 FINISHED\n",
      "[17.01|16:59:06] JOB plamsjob/plamsjob_ss_iter007 SUCCESSFUL\n",
      "[17.01|16:59:08]       species            TOF          error          ratio     conv?\n",
      "[17.01|16:59:08]            CO       -0.60170        0.02183        0.03628      True\n",
      "[17.01|16:59:08]            O2       -0.30081        0.01095        0.03639      True\n",
      "[17.01|16:59:08]           CO2        0.60170        0.02183        0.03628      True\n",
      "[17.01|16:59:08] JOB plamsjob Steady State Convergence: CONVERGENCE REACHED. DONE!\n",
      "[17.01|16:59:08] JOB plamsjob FINISHED\n",
      "[17.01|16:59:08] JOB plamsjob SUCCESSFUL\n"
     ]
    }
   ],
   "source": [
    "results = ss_job.run()\n",
    "\n",
    "if not ss_job.ok():\n",
    "    print('Something went wrong!')"
   ]
  },
  {
   "cell_type": "markdown",
   "id": "3531f619-9068-4ca7-bace-825e716f2c60",
   "metadata": {},
   "source": [
    "If the execution got up to this point, everything worked as expected. Hooray!\n",
    "Now, in the following lines, we just nicely print the results in a table. See\n",
    "the API documentation to learn more about the ``results`` object is structured.\n",
    "Here we show the history of the simulation and see how it progresses as the\n",
    "``max_time`` is increased. We print the TOF for CO2, its error, and whether\n",
    "the calculation converged. Notice that the calculation should have been\n",
    "converged at 720 s of ``max_time``."
   ]
  },
  {
   "cell_type": "code",
   "execution_count": 14,
   "id": "3d5a4cf0-11f4-464c-ba74-13356e3b9ae3",
   "metadata": {},
   "outputs": [
    {
     "name": "stdout",
     "output_type": "stream",
     "text": [
      "------------------------------------------------------------\n",
      "    iter  max_time        TOF_CO2       error     conv?\n",
      "                 s     mol/s/site  mol/s/site          \n",
      "------------------------------------------------------------\n",
      "       0     20.00        0.75640     0.12615     False\n",
      "       1    120.00        0.59301     0.03157     False\n",
      "       2    220.00        0.59360     0.03311     False\n",
      "       3    320.00        0.59293     0.03062     False\n",
      "       4    420.00        0.59345     0.02729     False\n",
      "       5    520.00        0.61241     0.02564     False\n",
      "       6    620.00        0.60345     0.02697     False\n",
      "       7    720.00        0.60170     0.02183      True\n"
     ]
    }
   ],
   "source": [
    "print(60*'-')\n",
    "fline = \"{0:>8s}{1:>10s}{2:>15s}{3:>12s}{4:>10s}\"\n",
    "print( fline.format('iter', 'max_time', 'TOF_CO2', 'error', 'conv?') )\n",
    "print( fline.format('', 's', 'mol/s/site', 'mol/s/site', '') )\n",
    "print(60*'-')\n",
    "\n",
    "for i,step in enumerate(results.history()):\n",
    "    fline = \"{0:8d}{1:>10.2f}{2:15.5f}{3:>12.5f}{4:>10s}\"\n",
    "    print( fline.format(i,\n",
    "                        step['max_time'],\n",
    "                        step['turnover_frequency']['CO2'],\n",
    "                        step['turnover_frequency_error']['CO2'],\n",
    "                        str(all(step['converged'].values()))) )"
   ]
  },
  {
   "cell_type": "markdown",
   "id": "4941214c-1e0f-4996-91c6-652dfc63d7fb",
   "metadata": {},
   "source": [
    "Now that all calculations are done, we can close the pyZacros environment:"
   ]
  },
  {
   "cell_type": "code",
   "execution_count": 8,
   "id": "780f0cdb-df75-48eb-ab11-0beed723c61d",
   "metadata": {},
   "outputs": [
    {
     "name": "stdout",
     "output_type": "stream",
     "text": [
      "[17.01|16:59:08] PLAMS run finished. Goodbye\n"
     ]
    }
   ],
   "source": [
    "scm.pyzacros.finish()"
   ]
  },
  {
   "cell_type": "markdown",
   "id": "1137965a-2cf6-4a0f-a138-1b61053744a0",
   "metadata": {},
   "source": [
    "Additionally, you can see the aforementioned results visually if you have\n",
    "installed the package [matplotlib](https://matplotlib.org/). Please review\n",
    "the code in the section below. In particular, pay close attention to how to\n",
    "obtain the \"children results\" (each thread executed) which are identified by\n",
    "their replica and iteration number. In the figure, each iteration is\n",
    "represented by a different color, and the stopping points on \"max time\" are\n",
    "represented by vertical gray dashed lines."
   ]
  },
  {
   "cell_type": "code",
   "execution_count": 9,
   "id": "b00358ae-e41b-46b3-b22f-7916e186a57c",
   "metadata": {},
   "outputs": [
    {
     "data": {
      "image/png": "[encoded data removed]",
      "text/plain": [
       "<Figure size 640x480 with 1 Axes>"
      ]
     },
     "metadata": {},
     "output_type": "display_data"
    }
   ],
   "source": [
    "import matplotlib.pyplot as plt\n",
    "\n",
    "fig = plt.figure()\n",
    "ax = plt.axes()\n",
    "ax.set_xlabel('Time (s)', fontsize=14)\n",
    "ax.set_ylabel(\"CO$_2$ Production (mol/site)\", fontsize=14)\n",
    "\n",
    "colors = 'bgrcmykb'\n",
    "for i in range(results.niterations()):\n",
    "    for j in range(results.nreplicas()):\n",
    "        molecule_numbers = results.children_results(i,j).molecule_numbers(['CO2'], normalize_per_site=True)\n",
    "        \n",
    "        ax.plot( molecule_numbers['Time'], molecule_numbers['CO2'], lw=3, color=colors[i], zorder=-i )\n",
    "        ax.vlines( max(molecule_numbers['Time']) , 0, max(molecule_numbers['CO2']), colors='0.8', linestyles='--',)\n",
    "\n",
    "plt.show()"
   ]
  }
 ],
 "metadata": {
  "kernelspec": {
   "display_name": "Python 3 (ipykernel)",
   "language": "python",
   "name": "python3"
  },
  "language_info": {
   "codemirror_mode": {
    "name": "ipython",
    "version": 3
   },
   "file_extension": ".py",
   "mimetype": "text/x-python",
   "name": "python",
   "nbconvert_exporter": "python",
   "pygments_lexer": "ipython3",
   "version": "3.8.12"
  }
 },
 "nbformat": 4,
 "nbformat_minor": 5
}
