{
 "cells": [
  {
   "cell_type": "markdown",
   "id": "11f7fe4f-bc6f-43a4-adee-85cfe52f58ba",
   "metadata": {},
   "source": [
    "Langmuir-Hinshelwood model: Acceleration by Automated Rescaling of the Rate Constants.\n",
    "--------------------------------------------------------------------------------------\n",
    "\n",
    "The scale disparity issue is common in Kinetic Monte Carlo simulations. It emerges\n",
    "as a result of the fact that some fundamental events or groups of them typically\n",
    "occur at vastly different time scales; in other words, their rate constants can\n",
    "span multiple orders of magnitude. In heterogeneous catalysis, there are typically\n",
    "two groups: 1) very fast events that correspond to the species' surface diffusions\n",
    "and 2) slow reactions that change their chemical identity. The latter group of events\n",
    "is usually the one of interest because it allows the evaluation of the material's\n",
    "catalytic activity. In contrast, the species' surface diffusion does not contribute\n",
    "significantly to the net evolution of the slow reactions. But, as becomes the most\n",
    "frequent step, it also becomes the limiting factor of the simulation progress,\n",
    "considerably increasing the computational cost. This tutorial shows how to speed up\n",
    "the calculation by several orders of magnitude without sacrificing precision by\n",
    "automatically detecting and scaling the rate constants of fast reactions.\n",
    "\n",
    "We will focus on the net reaction $\\text{CO}+\\frac{1}{2}\\text{O}_2\\longrightarrow \\text{CO}_2$\n",
    "that takes place at a catalyst's surface and whose reaction mechanism is described by\n",
    "the Langmuir-Hinshelwood model. Because this model has four very fast processes\n",
    "($CO$ and $O_2$ adsorption, and $O*$ and $CO*$ diffusion) and one slow process\n",
    "($CO$ oxidation), it is an ideal prototype for demonstrating the benefits of the\n",
    "automated rescaling of rate constants technique. Our ultimate goal is to investigate\n",
    "how altering the relative percentage of the gas reactants $CO$ and $O_2$ (at a specific\n",
    "temperature and pressure) affect the rate of $CO_2$ production under steady state\n",
    "conditions. This example is inspired on Zacros tutorial\n",
    "[What's KMC All About and Why Bother](https://zacros.org/tutorials/12-about-kinetic-monte-carlo?showall=1)."
   ]
  },
  {
   "cell_type": "markdown",
   "id": "e7495b6b-f436-4753-b10a-610e6140ae44",
   "metadata": {},
   "source": [
    "Let's start! The first step is to import all packages we need:"
   ]
  },
  {
   "cell_type": "code",
   "execution_count": 1,
   "id": "43ee56b9-0f5c-4d60-8e89-a927ff8e7153",
   "metadata": {},
   "outputs": [],
   "source": [
    "import multiprocessing\n",
    "import numpy\n",
    "import scm.plams\n",
    "import scm.pyzacros as pz\n",
    "import scm.pyzacros.models"
   ]
  },
  {
   "cell_type": "markdown",
   "id": "a8546a68-ff1b-4c93-af7a-9bec5bd8e1e2",
   "metadata": {},
   "source": [
    "Then, we initialize the **pyZacros** environment. "
   ]
  },
  {
   "cell_type": "code",
   "execution_count": 2,
   "id": "2b6a1dbd-24c1-40ec-9fce-71965f6c19da",
   "metadata": {
    "tags": []
   },
   "outputs": [
    {
     "name": "stdout",
     "output_type": "stream",
     "text": [
      "PLAMS working folder: /home/aguirre/Develop/pyzacros/examples/ZiffGulariBarshad/plams_workdir.002\n"
     ]
    }
   ],
   "source": [
    "scm.pyzacros.init()"
   ]
  },
  {
   "cell_type": "markdown",
   "id": "f87fbda5-1420-4ef8-b9b4-3963763f86ef",
   "metadata": {},
   "source": [
    "Notice this command created the directory where all **Zacros** input and output files\n",
    "will be stored if they are needed for future reference (``plams_workdir`` by default).\n",
    "Typically, the user doesn't need to use these files."
   ]
  },
  {
   "cell_type": "markdown",
   "id": "2d767698-9a39-4801-b653-afcd47b9d7d0",
   "metadata": {},
   "source": [
    "This calculation necessitates a significant computational effort. On a typical laptop,\n",
    "it should take less than an hour to complete. So, in order to speed things up, we'll\n",
    "use the ``plams.JobRunner`` class to run as many parallel instances as possible. In this\n",
    "case, we choose to use the maximum number of simultaneous processes (``maxjobs``) equal\n",
    "to the number of processors in the machine. "
   ]
  },
  {
   "cell_type": "code",
   "execution_count": 3,
   "id": "946a624b-479c-4d58-8851-829dd7bf3b64",
   "metadata": {
    "tags": []
   },
   "outputs": [
    {
     "name": "stdout",
     "output_type": "stream",
     "text": [
      "Running up to 8 jobs in parallel simultaneously\n"
     ]
    }
   ],
   "source": [
    "maxjobs = multiprocessing.cpu_count()\n",
    "scm.plams.config.default_jobrunner = scm.plams.JobRunner(parallel=True, maxjobs=maxjobs)\n",
    "print('Running up to {} jobs in parallel simultaneously'.format(maxjobs))"
   ]
  },
  {
   "cell_type": "markdown",
   "id": "197db513-1964-4f44-9b93-afa7f5e18f29",
   "metadata": {},
   "source": [
    "Now, we initialize our Langmuir-Hinshelwood model, which by luck is available as a predefined model in pyZacros,"
   ]
  },
  {
   "cell_type": "code",
   "execution_count": 4,
   "id": "8dfcc3df-5038-404c-9453-1ae9541796e1",
   "metadata": {},
   "outputs": [],
   "source": [
    "lh = pz.models.LangmuirHinshelwood()"
   ]
  },
  {
   "cell_type": "markdown",
   "id": "7d4f3a66-a861-49bc-8cd7-458c4c8da9b7",
   "metadata": {},
   "source": [
    "Then, we set up the Zacros calculation. All parameters are set using a ``Setting``\n",
    "object. To begin, we define the physical parameters: ``temperature`` (in K), and\n",
    "``pressure`` (in bar). The calculation parameters are then set: ``species numbers``\n",
    "(in s) determines how frequently information about the number of gas and surface\n",
    "species will be stored, ``max time`` (in s) specifies the maximum allowed simulated\n",
    "time, and \"random seed\" specifies the random seed to make the calculation precisely\n",
    "reproducible. Keep in mind that ``max time`` defines the calculation's stopping\n",
    "criterion, and it is the parameter that will be controlled later to achieve the\n",
    "steady-state configuration. Finally, we create the ``ZacrosJob``, which uses the\n",
    "parameters we just defined as well as the Langmuir-Hinshelwood model's lattice,\n",
    "mechanism, and cluster expansion. Notice we do not run this job, we use it as a\n",
    "reference for the steady-state calculation described below."
   ]
  },
  {
   "cell_type": "code",
   "execution_count": 5,
   "id": "1c9d7f35-5296-40cd-8a26-e23bb200fc05",
   "metadata": {},
   "outputs": [],
   "source": [
    "z_sett = pz.Settings()\n",
    "z_sett.temperature = 500.0\n",
    "z_sett.pressure = 1.000\n",
    "z_sett.species_numbers = ('time', 1.0e-5)\n",
    "z_sett.max_time = 100*1.0e-5\n",
    "z_sett.random_seed = 1609\n",
    "\n",
    "z_job = pz.ZacrosJob( settings=z_sett, lattice=lh.lattice,\n",
    "                      mechanism=lh.mechanism,\n",
    "                      cluster_expansion=lh.cluster_expansion )"
   ]
  },
  {
   "cell_type": "markdown",
   "id": "3953bd69-cf24-4264-88a5-7288ec541340",
   "metadata": {},
   "source": [
    "Hmmmmm"
   ]
  },
  {
   "cell_type": "code",
   "execution_count": 6,
   "id": "34ffd27b-bbf9-4d6a-b764-1dda41b02d59",
   "metadata": {},
   "outputs": [
    {
     "name": "stdout",
     "output_type": "stream",
     "text": [
      "[18.01|17:53:30] JOB plamsjob Steady State Convergence: Using nbatch=20,confidence=0.5,ignore_nbatch=5,nreplicas=4\n"
     ]
    }
   ],
   "source": [
    "ss_sett = pz.Settings()\n",
    "#ss_sett.turnover_frequency.confidence = 0.98\n",
    "#ss_sett.turnover_frequency.confidence = 0.99 --> Funciona???? para dejar el default?\n",
    "ss_sett.turnover_frequency.confidence = 0.5\n",
    "ss_sett.turnover_frequency.ignore_nbatch = 5\n",
    "# ss_sett.turnover_frequency.ignore_nbatch = 1 --> Funciona??> para dejar el default?\n",
    "ss_sett.nreplicas = 4\n",
    "ss_sett.scaling.enabled = 'T'\n",
    "\n",
    "ss_params = pz.ZacrosSteadyStateJob.Parameters()\n",
    "ss_params.add( 'max_time', 'restart.max_time',\n",
    "                2*z_sett.max_time*( numpy.arange(50)+1 )**2 )\n",
    "\n",
    "ss_job = pz.ZacrosSteadyStateJob( settings=ss_sett, reference=z_job,\n",
    "                                  parameters=ss_params )"
   ]
  },
  {
   "cell_type": "code",
   "execution_count": 7,
   "id": "db449afd-0d2d-45d6-9260-dcd38be93d59",
   "metadata": {
    "tags": []
   },
   "outputs": [
    {
     "name": "stdout",
     "output_type": "stream",
     "text": [
      "[18.01|17:53:30] JOB plamsjob_ps_cond000 Steady State Convergence: Using nbatch=20,confidence=0.5,ignore_nbatch=5,nreplicas=4\n",
      "[18.01|17:53:30] JOB plamsjob_ps_cond001 Steady State Convergence: Using nbatch=20,confidence=0.5,ignore_nbatch=5,nreplicas=4\n",
      "[18.01|17:53:30] JOB plamsjob_ps_cond002 Steady State Convergence: Using nbatch=20,confidence=0.5,ignore_nbatch=5,nreplicas=4\n"
     ]
    }
   ],
   "source": [
    "ps_params = pz.ZacrosParametersScanJob.Parameters()\n",
    "#ps_params.add( 'x_CO', 'molar_fraction.CO', numpy.linspace(0.0, 1.0, 21) )\n",
    "ps_params.add( 'x_CO', 'molar_fraction.CO', numpy.linspace(0.0, 1.0, 3) )\n",
    "ps_params.add( 'x_O2', 'molar_fraction.O2', lambda params: 1.0-params['x_CO'] )\n",
    "\n",
    "ps_job = pz.ZacrosParametersScanJob( reference=ss_job, parameters=ps_params )"
   ]
  },
  {
   "cell_type": "code",
   "execution_count": 8,
   "id": "56d6fe14-90aa-4ba0-ab75-4efdcd66525e",
   "metadata": {
    "tags": [
     "cut_output=6_32"
    ]
   },
   "outputs": [
    {
     "name": "stdout",
     "output_type": "stream",
     "text": [
      "[18.01|17:53:30] JOB plamsjob STARTED\n",
      "[18.01|17:53:30] Waiting for job plamsjob to finish\n",
      "[18.01|17:53:30] JOB plamsjob RUNNING\n",
      "[18.01|17:53:30] JOB plamsjob/plamsjob_ps_cond000 STARTED\n",
      "[18.01|17:53:30] JOB plamsjob/plamsjob_ps_cond001 STARTED\n",
      "[18.01|17:53:30] JOB plamsjob/plamsjob_ps_cond002 STARTED\n",
      "[18.01|17:53:30] JOB plamsjob/plamsjob_ps_cond000 RUNNING\n",
      "[18.01|17:53:30] JOB plamsjob/plamsjob_ps_cond001 RUNNING\n",
      "[18.01|17:53:30] JOB plamsjob/plamsjob_ps_cond000 Scaling: Using partial_equilibrium_index_threshold=0.1,upper_bound=100\n",
      "[18.01|17:53:30] JOB plamsjob/plamsjob_ps_cond002 RUNNING\n",
      "[18.01|17:53:30] JOB plamsjob/plamsjob_ps_cond001 Scaling: Using partial_equilibrium_index_threshold=0.1,upper_bound=100\n",
      "[18.01|17:53:30] JOB plamsjob/plamsjob_ps_cond000/plamsjob_ps_cond000_ss_scaling STARTED\n",
      "[18.01|17:53:30] JOB plamsjob/plamsjob_ps_cond002 Scaling: Using partial_equilibrium_index_threshold=0.1,upper_bound=100\n",
      "[18.01|17:53:30] JOB plamsjob/plamsjob_ps_cond001/plamsjob_ps_cond001_ss_scaling STARTED\n",
      "[18.01|17:53:30] Waiting for job plamsjob_ps_cond000_ss_scaling to finish\n",
      "[18.01|17:53:30] JOB plamsjob/plamsjob_ps_cond002/plamsjob_ps_cond002_ss_scaling STARTED\n",
      "[18.01|17:53:30] Waiting for job plamsjob_ps_cond001_ss_scaling to finish\n",
      "[18.01|17:53:30] Waiting for job plamsjob_ps_cond002_ss_scaling to finish\n",
      "[18.01|17:53:30] JOB plamsjob/plamsjob_ps_cond000/plamsjob_ps_cond000_ss_scaling RUNNING\n",
      "[18.01|17:53:30] JOB plamsjob/plamsjob_ps_cond001/plamsjob_ps_cond001_ss_scaling RUNNING\n",
      "[18.01|17:53:30] JOB plamsjob/plamsjob_ps_cond002/plamsjob_ps_cond002_ss_scaling RUNNING\n",
      "[18.01|17:55:38] JOB plamsjob/plamsjob_ps_cond002/plamsjob_ps_cond002_ss_scaling FINISHED\n",
      "[18.01|17:55:39] JOB plamsjob/plamsjob_ps_cond002/plamsjob_ps_cond002_ss_scaling SUCCESSFUL\n",
      "[18.01|17:55:39]       id         PE     kind       orig_pexp              sf        new_pexp    label\n",
      "[18.01|17:55:39]        0    0.00010     fast     1.00000e+07     1.87471e-05     1.87471e+02    CO_adsorption\n",
      "[18.01|17:55:39]        1    0.00000     slow     1.00000e+07     1.00000e+00     1.00000e+07    O2_adsorption\n",
      "[18.01|17:55:39]        2    0.00000     slow     1.00000e+06     1.00000e+00     1.00000e+06    O_diffusion\n",
      "[18.01|17:55:39]        3   -0.00101     fast     1.00000e+06     4.68617e-05     4.68617e+01    CO_diffusion\n",
      "[18.01|17:55:39]        4    0.00000     slow     4.50000e+02     1.00000e+00     4.50000e+02    CO_oxidation\n",
      "[18.01|17:55:39] JOB plamsjob/plamsjob_ps_cond002/plamsjob_ps_cond002_ss_iter000_rep000 STARTED\n",
      "[18.01|17:55:39] JOB plamsjob/plamsjob_ps_cond002/plamsjob_ps_cond002_ss_iter000_rep001 STARTED\n",
      "[18.01|17:55:39] JOB plamsjob/plamsjob_ps_cond002/plamsjob_ps_cond002_ss_iter000_rep002 STARTED\n",
      "[18.01|17:55:39] JOB plamsjob/plamsjob_ps_cond002/plamsjob_ps_cond002_ss_iter000_rep003 STARTED\n",
      "[18.01|17:55:39] Waiting for job plamsjob_ps_cond002_ss_iter000_rep000 to finish\n",
      "[18.01|17:55:39] JOB plamsjob/plamsjob_ps_cond002/plamsjob_ps_cond002_ss_iter000_rep000 RUNNING\n",
      "[18.01|17:55:39] JOB plamsjob/plamsjob_ps_cond002/plamsjob_ps_cond002_ss_iter000_rep001 RUNNING\n",
      "[18.01|17:55:39] JOB plamsjob/plamsjob_ps_cond002/plamsjob_ps_cond002_ss_iter000_rep003 RUNNING\n",
      "[18.01|17:55:39] JOB plamsjob/plamsjob_ps_cond002/plamsjob_ps_cond002_ss_iter000_rep002 RUNNING\n",
      "[18.01|17:55:39] JOB plamsjob/plamsjob_ps_cond002/plamsjob_ps_cond002_ss_iter000_rep003 FINISHED\n",
      "[18.01|17:55:39] JOB plamsjob/plamsjob_ps_cond002/plamsjob_ps_cond002_ss_iter000_rep003 SUCCESSFUL\n",
      "[18.01|17:55:39] JOB plamsjob/plamsjob_ps_cond002/plamsjob_ps_cond002_ss_iter000_rep001 FINISHED\n",
      "[18.01|17:55:39] JOB plamsjob/plamsjob_ps_cond002/plamsjob_ps_cond002_ss_iter000_rep002 FINISHED\n",
      "[18.01|17:55:39] JOB plamsjob/plamsjob_ps_cond002/plamsjob_ps_cond002_ss_iter000_rep000 FINISHED\n",
      "[18.01|17:55:39] JOB plamsjob/plamsjob_ps_cond002/plamsjob_ps_cond002_ss_iter000_rep000 SUCCESSFUL\n",
      "[18.01|17:55:39] JOB plamsjob/plamsjob_ps_cond002/plamsjob_ps_cond002_ss_iter000_rep002 SUCCESSFUL\n",
      "[18.01|17:55:39] Waiting for job plamsjob_ps_cond002_ss_iter000_rep001 to finish\n",
      "[18.01|17:55:39] JOB plamsjob/plamsjob_ps_cond002/plamsjob_ps_cond002_ss_iter000_rep001 SUCCESSFUL\n",
      "[18.01|17:55:39]    Replica #0\n",
      "[18.01|17:55:39]       species            TOF          error          ratio     conv?\n",
      "[18.01|17:55:39]            CO     -149.16667       12.87845        0.08634      True\n",
      "[18.01|17:55:39]            O2        0.00000        0.00000        0.00000      True\n",
      "[18.01|17:55:39]           CO2        0.00000        0.00000        0.00000      True\n",
      "[18.01|17:55:39]    Replica #1\n",
      "[18.01|17:55:39]       species            TOF          error          ratio     conv?\n",
      "[18.01|17:55:39]            CO     -187.50000       15.15692        0.08084      True\n",
      "[18.01|17:55:39]            O2        0.00000        0.00000        0.00000      True\n",
      "[18.01|17:55:39]           CO2        0.00000        0.00000        0.00000      True\n",
      "[18.01|17:55:39]    Replica #2\n",
      "[18.01|17:55:39]       species            TOF          error          ratio     conv?\n",
      "[18.01|17:55:39]            CO     -159.16667       11.22056        0.07050      True\n",
      "[18.01|17:55:39]            O2        0.00000        0.00000        0.00000      True\n",
      "[18.01|17:55:39]           CO2        0.00000        0.00000        0.00000      True\n",
      "[18.01|17:55:39]    Replica #3\n",
      "[18.01|17:55:39]       species            TOF          error          ratio     conv?\n",
      "[18.01|17:55:39]            CO     -135.83333       12.72238        0.09366      True\n",
      "[18.01|17:55:39]            O2        0.00000        0.00000        0.00000      True\n",
      "[18.01|17:55:39]           CO2        0.00000        0.00000        0.00000      True\n",
      "[18.01|17:55:39]    Average\n",
      "[18.01|17:55:39]       species            TOF          error          ratio     conv?\n",
      "[18.01|17:55:39]            CO     -157.91667        6.20650        0.03930      True\n",
      "[18.01|17:55:39]            O2        0.00000        0.00000        0.00000      True\n",
      "[18.01|17:55:39]           CO2        0.00000        0.00000        0.00000      True\n",
      "[18.01|17:55:39] JOB plamsjob/plamsjob_ps_cond002 Steady State Convergence: CONVERGENCE REACHED. DONE!\n",
      "[18.01|17:55:39] JOB plamsjob/plamsjob_ps_cond002 FINISHED\n",
      "[18.01|17:55:39] JOB plamsjob/plamsjob_ps_cond002 SUCCESSFUL\n",
      "[18.01|17:57:01] JOB plamsjob/plamsjob_ps_cond001/plamsjob_ps_cond001_ss_scaling FINISHED\n",
      "[18.01|17:57:02] JOB plamsjob/plamsjob_ps_cond001/plamsjob_ps_cond001_ss_scaling SUCCESSFUL\n",
      "[18.01|17:57:02]       id         PE     kind       orig_pexp              sf        new_pexp    label\n",
      "[18.01|17:57:02]        0    0.00022     fast     1.00000e+07     1.19927e-02     1.19927e+05    CO_adsorption\n",
      "[18.01|17:57:02]        1    0.00009     fast     1.00000e+07     7.17539e-03     7.17539e+04    O2_adsorption\n",
      "[18.01|17:57:02]        2    0.00090     fast     1.00000e+06     2.26909e-02     2.26909e+04    O_diffusion\n",
      "[18.01|17:57:02]        3   -0.00107     fast     1.00000e+06     3.57206e-02     3.57206e+04    CO_diffusion\n",
      "[18.01|17:57:02]        4    1.00000     slow     4.50000e+02     1.00000e+00     4.50000e+02    CO_oxidation\n",
      "[18.01|17:57:02] JOB plamsjob/plamsjob_ps_cond001/plamsjob_ps_cond001_ss_iter000_rep000 STARTED\n",
      "[18.01|17:57:02] JOB plamsjob/plamsjob_ps_cond001/plamsjob_ps_cond001_ss_iter000_rep001 STARTED\n",
      "[18.01|17:57:02] JOB plamsjob/plamsjob_ps_cond001/plamsjob_ps_cond001_ss_iter000_rep002 STARTED\n",
      "[18.01|17:57:02] JOB plamsjob/plamsjob_ps_cond001/plamsjob_ps_cond001_ss_iter000_rep003 STARTED\n",
      "[18.01|17:57:02] Waiting for job plamsjob_ps_cond001_ss_iter000_rep000 to finish\n",
      "[18.01|17:57:02] JOB plamsjob/plamsjob_ps_cond001/plamsjob_ps_cond001_ss_iter000_rep000 RUNNING\n",
      "[18.01|17:57:02] JOB plamsjob/plamsjob_ps_cond001/plamsjob_ps_cond001_ss_iter000_rep001 RUNNING\n",
      "[18.01|17:57:02] JOB plamsjob/plamsjob_ps_cond001/plamsjob_ps_cond001_ss_iter000_rep002 RUNNING\n",
      "[18.01|17:57:02] JOB plamsjob/plamsjob_ps_cond001/plamsjob_ps_cond001_ss_iter000_rep003 RUNNING\n",
      "[18.01|17:57:05] JOB plamsjob/plamsjob_ps_cond001/plamsjob_ps_cond001_ss_iter000_rep001 FINISHED\n",
      "[18.01|17:57:05] JOB plamsjob/plamsjob_ps_cond001/plamsjob_ps_cond001_ss_iter000_rep001 SUCCESSFUL\n",
      "[18.01|17:57:06] JOB plamsjob/plamsjob_ps_cond001/plamsjob_ps_cond001_ss_iter000_rep003 FINISHED\n",
      "[18.01|17:57:06] JOB plamsjob/plamsjob_ps_cond001/plamsjob_ps_cond001_ss_iter000_rep003 SUCCESSFUL\n",
      "[18.01|17:57:06] JOB plamsjob/plamsjob_ps_cond001/plamsjob_ps_cond001_ss_iter000_rep000 FINISHED\n",
      "[18.01|17:57:06] JOB plamsjob/plamsjob_ps_cond001/plamsjob_ps_cond001_ss_iter000_rep000 SUCCESSFUL\n",
      "[18.01|17:57:06] Waiting for job plamsjob_ps_cond001_ss_iter000_rep002 to finish\n",
      "[18.01|17:57:06] JOB plamsjob/plamsjob_ps_cond001/plamsjob_ps_cond001_ss_iter000_rep002 FINISHED\n",
      "[18.01|17:57:06] JOB plamsjob/plamsjob_ps_cond001/plamsjob_ps_cond001_ss_iter000_rep002 SUCCESSFUL\n",
      "[18.01|17:57:06]    Replica #0\n",
      "[18.01|17:57:06]       species            TOF          error          ratio     conv?\n",
      "[18.01|17:57:06]            CO     -555.83333       96.72349        0.17402      True\n",
      "[18.01|17:57:06]            O2     -130.00000       73.80435        0.56773     False\n",
      "[18.01|17:57:06]           CO2      336.66667       16.38877        0.04868      True\n",
      "[18.01|17:57:06]    Replica #1\n",
      "[18.01|17:57:06]       species            TOF          error          ratio     conv?\n",
      "[18.01|17:57:06]            CO     -210.83333      124.17647        0.58898     False\n",
      "[18.01|17:57:06]            O2     -155.00000       64.86215        0.41847      True\n",
      "[18.01|17:57:06]           CO2      275.00000       19.80909        0.07203      True\n",
      "[18.01|17:57:06]    Replica #2\n",
      "[18.01|17:57:06]       species            TOF          error          ratio     conv?\n",
      "[18.01|17:57:06]            CO     -510.83333      115.07844        0.22528      True\n",
      "[18.01|17:57:06]            O2     -145.83333       54.50963        0.37378      True\n",
      "[18.01|17:57:06]           CO2      292.50000       14.62510        0.05000      True\n",
      "[18.01|17:57:06]    Replica #3\n",
      "[18.01|17:57:06]       species            TOF          error          ratio     conv?\n",
      "[18.01|17:57:06]            CO     -395.00000       91.17972        0.23083      True\n",
      "[18.01|17:57:06]            O2     -111.66667       41.28893        0.36975      True\n",
      "[18.01|17:57:06]           CO2      325.83333       16.77599        0.05149      True\n",
      "[18.01|17:57:06]    Average\n",
      "[18.01|17:57:06]       species            TOF          error          ratio     conv?\n",
      "[18.01|17:57:06]            CO     -418.12500       51.61355        0.12344      True\n",
      "[18.01|17:57:06]            O2     -135.62500       29.20184        0.21531      True\n",
      "[18.01|17:57:06]           CO2      307.50000        8.98583        0.02922      True\n",
      "[18.01|17:57:06] JOB plamsjob/plamsjob_ps_cond001 Steady State Convergence: CONVERGENCE REACHED. DONE!\n",
      "[18.01|17:57:06] JOB plamsjob/plamsjob_ps_cond001 FINISHED\n",
      "[18.01|17:57:07] JOB plamsjob/plamsjob_ps_cond001 SUCCESSFUL\n",
      "[18.01|17:59:06] JOB plamsjob/plamsjob_ps_cond000/plamsjob_ps_cond000_ss_scaling FINISHED\n",
      "[18.01|17:59:06] JOB plamsjob/plamsjob_ps_cond000/plamsjob_ps_cond000_ss_scaling SUCCESSFUL\n",
      "[18.01|17:59:06]       id         PE     kind       orig_pexp              sf        new_pexp    label\n",
      "[18.01|17:59:06]        0    0.00000     slow     1.00000e+07     1.00000e+00     1.00000e+07    CO_adsorption\n",
      "[18.01|17:59:06]        1    0.00003     fast     1.00000e+07     1.09049e-05     1.09049e+02    O2_adsorption\n",
      "[18.01|17:59:06]        2   -0.00006     fast     1.00000e+06     4.88521e-05     4.88521e+01    O_diffusion\n",
      "[18.01|17:59:06]        3    0.00000     slow     1.00000e+06     1.00000e+00     1.00000e+06    CO_diffusion\n",
      "[18.01|17:59:06]        4    0.00000     slow     4.50000e+02     1.00000e+00     4.50000e+02    CO_oxidation\n",
      "[18.01|17:59:06] JOB plamsjob/plamsjob_ps_cond000/plamsjob_ps_cond000_ss_iter000_rep000 STARTED\n",
      "[18.01|17:59:06] JOB plamsjob/plamsjob_ps_cond000/plamsjob_ps_cond000_ss_iter000_rep001 STARTED\n",
      "[18.01|17:59:06] JOB plamsjob/plamsjob_ps_cond000/plamsjob_ps_cond000_ss_iter000_rep002 STARTED\n",
      "[18.01|17:59:06] JOB plamsjob/plamsjob_ps_cond000/plamsjob_ps_cond000_ss_iter000_rep003 STARTED\n",
      "[18.01|17:59:06] Waiting for job plamsjob_ps_cond000_ss_iter000_rep000 to finish\n",
      "[18.01|17:59:06] JOB plamsjob/plamsjob_ps_cond000/plamsjob_ps_cond000_ss_iter000_rep001 RUNNING\n",
      "[18.01|17:59:06] JOB plamsjob/plamsjob_ps_cond000/plamsjob_ps_cond000_ss_iter000_rep000 RUNNING\n",
      "[18.01|17:59:06] JOB plamsjob/plamsjob_ps_cond000/plamsjob_ps_cond000_ss_iter000_rep002 RUNNING\n",
      "[18.01|17:59:06] JOB plamsjob/plamsjob_ps_cond000/plamsjob_ps_cond000_ss_iter000_rep003 RUNNING\n",
      "[18.01|17:59:07] JOB plamsjob/plamsjob_ps_cond000/plamsjob_ps_cond000_ss_iter000_rep003 FINISHED\n",
      "[18.01|17:59:07] JOB plamsjob/plamsjob_ps_cond000/plamsjob_ps_cond000_ss_iter000_rep002 FINISHED\n",
      "[18.01|17:59:07] JOB plamsjob/plamsjob_ps_cond000/plamsjob_ps_cond000_ss_iter000_rep000 FINISHED\n",
      "[18.01|17:59:07] JOB plamsjob/plamsjob_ps_cond000/plamsjob_ps_cond000_ss_iter000_rep003 SUCCESSFUL\n",
      "[18.01|17:59:07] JOB plamsjob/plamsjob_ps_cond000/plamsjob_ps_cond000_ss_iter000_rep001 FINISHED\n",
      "[18.01|17:59:07] JOB plamsjob/plamsjob_ps_cond000/plamsjob_ps_cond000_ss_iter000_rep002 SUCCESSFUL\n",
      "[18.01|17:59:07] JOB plamsjob/plamsjob_ps_cond000/plamsjob_ps_cond000_ss_iter000_rep000 SUCCESSFUL\n",
      "[18.01|17:59:07] Waiting for job plamsjob_ps_cond000_ss_iter000_rep001 to finish\n",
      "[18.01|17:59:07] JOB plamsjob/plamsjob_ps_cond000/plamsjob_ps_cond000_ss_iter000_rep001 SUCCESSFUL\n",
      "[18.01|17:59:07]    Replica #0\n",
      "[18.01|17:59:07]       species            TOF          error          ratio     conv?\n",
      "[18.01|17:59:07]            CO        0.00000        0.00000        0.00000      True\n",
      "[18.01|17:59:07]            O2     -205.83333       18.65665        0.09064      True\n",
      "[18.01|17:59:07]           CO2        0.00000        0.00000        0.00000      True\n",
      "[18.01|17:59:07]    Replica #1\n",
      "[18.01|17:59:07]       species            TOF          error          ratio     conv?\n",
      "[18.01|17:59:07]            CO        0.00000        0.00000        0.00000      True\n",
      "[18.01|17:59:07]            O2     -211.66667       23.30819        0.11012      True\n",
      "[18.01|17:59:07]           CO2        0.00000        0.00000        0.00000      True\n",
      "[18.01|17:59:07]    Replica #2\n",
      "[18.01|17:59:07]       species            TOF          error          ratio     conv?\n",
      "[18.01|17:59:07]            CO        0.00000        0.00000        0.00000      True\n",
      "[18.01|17:59:07]            O2     -220.00000       21.63061        0.09832      True\n",
      "[18.01|17:59:07]           CO2        0.00000        0.00000        0.00000      True\n",
      "[18.01|17:59:07]    Replica #3\n",
      "[18.01|17:59:07]       species            TOF          error          ratio     conv?\n",
      "[18.01|17:59:07]            CO        0.00000        0.00000        0.00000      True\n",
      "[18.01|17:59:07]            O2     -190.83333       24.10570        0.12632      True\n",
      "[18.01|17:59:07]           CO2        0.00000        0.00000        0.00000      True\n",
      "[18.01|17:59:08]    Average\n",
      "[18.01|17:59:08]       species            TOF          error          ratio     conv?\n",
      "[18.01|17:59:08]            CO        0.00000        0.00000        0.00000      True\n",
      "[18.01|17:59:08]            O2     -207.08333       17.73975        0.08566      True\n",
      "[18.01|17:59:08]           CO2        0.00000        0.00000        0.00000      True\n",
      "[18.01|17:59:08] JOB plamsjob/plamsjob_ps_cond000 Steady State Convergence: CONVERGENCE REACHED. DONE!\n",
      "[18.01|17:59:08] JOB plamsjob/plamsjob_ps_cond000 FINISHED\n",
      "[18.01|17:59:08] JOB plamsjob/plamsjob_ps_cond000 SUCCESSFUL\n",
      "[18.01|17:59:10] JOB plamsjob FINISHED\n",
      "[18.01|17:59:11] JOB plamsjob SUCCESSFUL\n"
     ]
    }
   ],
   "source": [
    "results = ps_job.run()\n",
    "\n",
    "if not ps_job.ok():\n",
    "    print('Something went wrong!')"
   ]
  },
  {
   "cell_type": "code",
   "execution_count": 9,
   "id": "b6f7b33c-3344-4707-a8e2-122d3daa0313",
   "metadata": {
    "tags": []
   },
   "outputs": [
    {
     "name": "stdout",
     "output_type": "stream",
     "text": [
      "------------------------------------------------\n",
      "cond     x_CO       ac_O      ac_CO      TOF_CO2\n",
      "------------------------------------------------\n",
      "   0     0.00   0.539562   0.000000     0.000000\n",
      "   1     0.50   0.447031   0.271031   307.500000\n",
      "   2     1.00   0.000000   0.151219     0.000000\n"
     ]
    }
   ],
   "source": [
    "x_CO = []\n",
    "ac_O = []\n",
    "ac_CO = []\n",
    "TOF_CO2 = []\n",
    "\n",
    "results_dict = results.turnover_frequency()\n",
    "results_dict = results.average_coverage( last=10, update=results_dict )\n",
    "\n",
    "for i in range(len(results_dict)):\n",
    "    x_CO.append( results_dict[i]['x_CO'] )\n",
    "    ac_O.append( results_dict[i]['average_coverage']['O*'] )\n",
    "    ac_CO.append( results_dict[i]['average_coverage']['CO*'] )\n",
    "    TOF_CO2.append( results_dict[i]['turnover_frequency']['CO2'] )\n",
    "\n",
    "print( '------------------------------------------------' )\n",
    "print( '%4s'%'cond', '%8s'%'x_CO', '%10s'%'ac_O', '%10s'%'ac_CO', '%12s'%'TOF_CO2' )\n",
    "print( '------------------------------------------------' )\n",
    "for i in range(len(x_CO)):\n",
    "    print( '%4d'%i, '%8.2f'%x_CO[i], '%10.6f'%ac_O[i], '%10.6f'%ac_CO[i], '%12.6f'%TOF_CO2[i] )"
   ]
  },
  {
   "cell_type": "code",
   "execution_count": 10,
   "id": "da942014-3061-45b6-9b7b-e6468ff1b685",
   "metadata": {},
   "outputs": [
    {
     "name": "stdout",
     "output_type": "stream",
     "text": [
      "[18.01|17:59:12] PLAMS run finished. Goodbye\n"
     ]
    }
   ],
   "source": [
    "scm.pyzacros.finish()"
   ]
  },
  {
   "cell_type": "markdown",
   "id": "c2e5940c-d119-4313-8f7d-7830ae66f15a",
   "metadata": {},
   "source": [
    "$$\n",
    "\\theta_\\text{CO} = \\frac{ K_\\text{CO}P_\\text{CO} }{ 1 + K_\\text{CO}P_\\text{CO} + \\sqrt{K_{\\text{O}_2}P_\\text{O}} } \\\\\n",
    "\\theta_\\text{O} = \\frac{ \\sqrt{K_{\\text{O}_2}P_\\text{O}} }{ 1 + K_\\text{CO}P_\\text{CO} + \\sqrt{K_{\\text{O}_2}P_\\text{O}} } \\\\[7mm]\n",
    "\\text{TOF}_{\\text{CO}_2} = 6 \\, k_\\text{oxi}\\theta_\\text{CO}\\theta_\\text{O}\n",
    "$$"
   ]
  },
  {
   "cell_type": "code",
   "execution_count": null,
   "id": "a0897c31-cf13-43b8-8ccc-1e5f162deb09",
   "metadata": {},
   "outputs": [],
   "source": []
  }
 ],
 "metadata": {
  "kernelspec": {
   "display_name": "Python 3 (ipykernel)",
   "language": "python",
   "name": "python3"
  },
  "language_info": {
   "codemirror_mode": {
    "name": "ipython",
    "version": 3
   },
   "file_extension": ".py",
   "mimetype": "text/x-python",
   "name": "python",
   "nbconvert_exporter": "python",
   "pygments_lexer": "ipython3",
   "version": "3.8.12"
  }
 },
 "nbformat": 4,
 "nbformat_minor": 5
}
